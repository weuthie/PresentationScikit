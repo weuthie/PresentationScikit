{
 "cells": [
  {
   "cell_type": "markdown",
   "id": "674e6e52",
   "metadata": {},
   "source": [
    "                            \n",
    "<h1 style=\"text-align: center;\">SCIKIT LEARN</h1>"
   ]
  },
  {
   "cell_type": "markdown",
   "id": "a86330b8",
   "metadata": {},
   "source": [
    "<img src=\"scikit-learn-1.png\">"
   ]
  },
  {
   "cell_type": "markdown",
   "id": "90d04e0d",
   "metadata": {},
   "source": [
    "### Scikit-learn est une bibliotheque libre Python destinée à l'apprentissage automatique . Elle fournit une selection d'outils efficaces pour l'apprentissage automatique et la modelisation  statistique notamment la classification , la regression et le clustering ."
   ]
  },
  {
   "cell_type": "markdown",
   "id": "1bb99f17",
   "metadata": {},
   "source": [
    "# Pourquoi utiliser scikit learn ?"
   ]
  },
  {
   "cell_type": "markdown",
   "id": "562fa4d6",
   "metadata": {},
   "source": [
    "Il existe d'autre bibliotheque libre de python pour l'apprentissage \n",
    "automatique comme Torch , Theano , Caffe , Tensorflow .\n",
    "Cependant Scikit-learn est plus facile d'acces et implemente directement \n",
    "et de maniere didactiques les differentes algorithmes d'apprentissage \n",
    "automatiques.\n",
    "Il propose egalement une\n",
    "[documentation detaillée](https://scikit-learn.org/stable/)\n"
   ]
  },
  {
   "cell_type": "markdown",
   "id": "af3ea12a",
   "metadata": {},
   "source": [
    "> Tensorflow est plus flexible dans l'implementation des algorithme de deep learning"
   ]
  },
  {
   "cell_type": "markdown",
   "id": "8ef2eb28",
   "metadata": {},
   "source": [
    "#### Scikit Learn propose les differentes algorithme d'apprentissage automatiques sous forme de class qu'il faudra instancier pour creer un model"
   ]
  },
  {
   "cell_type": "markdown",
   "id": "a4ff0a94",
   "metadata": {},
   "source": [
    "# Les 4 etapes fondamentales pour developper un model avec Scikit Learn"
   ]
  },
  {
   "cell_type": "markdown",
   "id": "6d192e9e",
   "metadata": {},
   "source": [
    "1. instancier la class \n",
    "    model = Class()\n",
    "    \n",
    "    \n",
    "2. Entrainer le model avec \n",
    "    la methode fit() qui prend comme parametre les donnees c'est à\n",
    "    dire les features et le label\n",
    "    \n",
    "    \n",
    "3. On evalue notre model avec la methode score() avec les données\n",
    "    \n",
    "    \n",
    "    \n",
    "4. Tester notre model avec la methode predict(features)"
   ]
  },
  {
   "cell_type": "markdown",
   "id": "6f9bcd0a",
   "metadata": {},
   "source": [
    "<p style=\"text-align: center;\"> Importation des librairies</p>"
   ]
  },
  {
   "cell_type": "code",
   "execution_count": 2,
   "id": "4afa3995",
   "metadata": {},
   "outputs": [],
   "source": [
    "import pandas as pd\n",
    "import numpy as np\n",
    "import matplotlib.pyplot as plt"
   ]
  },
  {
   "cell_type": "markdown",
   "id": "087693bc",
   "metadata": {},
   "source": [
    "<p style=\"text-align: center;\">importation des données pour l'exemple</p>"
   ]
  },
  {
   "cell_type": "code",
   "execution_count": 3,
   "id": "35bc5145",
   "metadata": {},
   "outputs": [
    {
     "data": {
      "text/plain": [
       "(545, 2)"
      ]
     },
     "execution_count": 3,
     "metadata": {},
     "output_type": "execute_result"
    }
   ],
   "source": [
    "house_data = pd.read_csv(\"house.csv\")\n",
    "house_data.shape"
   ]
  },
  {
   "cell_type": "code",
   "execution_count": 4,
   "id": "657a7a88",
   "metadata": {},
   "outputs": [],
   "source": [
    "x=np.array([house_data['surface']]).T\n",
    "y=np.array([house_data['loyer']]).T\n",
    "x\n",
    "x_tes=np.array([[ 30],\n",
    "       [ 32],\n",
    "       [ 36],\n",
    "       [ 30],\n",
    "       [ 70],\n",
    "       [ 24],\n",
    "       [ 41]])"
   ]
  },
  {
   "cell_type": "markdown",
   "id": "fd454603",
   "metadata": {},
   "source": [
    "<p style=\"text-align: center;\">Importation d'un model </p>"
   ]
  },
  {
   "cell_type": "code",
   "execution_count": 5,
   "id": "29778fd0",
   "metadata": {},
   "outputs": [],
   "source": [
    "from sklearn.linear_model import LinearRegression"
   ]
  },
  {
   "cell_type": "markdown",
   "id": "bf4d0df9",
   "metadata": {},
   "source": [
    "<p style=\"text-align: center;\">les 4 etapes fondamentales</p>"
   ]
  },
  {
   "cell_type": "code",
   "execution_count": 6,
   "id": "6366ef4e",
   "metadata": {
    "scrolled": true
   },
   "outputs": [],
   "source": [
    "model = LinearRegression()\n",
    "model.fit(x,y)\n",
    "model.score(x,y)\n",
    "y_pred = model.predict(x_tes)"
   ]
  },
  {
   "cell_type": "code",
   "execution_count": 7,
   "id": "f7c7d480",
   "metadata": {
    "scrolled": true
   },
   "outputs": [],
   "source": [
    "#plt.scatter(x,y)\n",
    "#plt.plot(x_tes,y_pred,c='r')"
   ]
  },
  {
   "cell_type": "markdown",
   "id": "2ffd373c",
   "metadata": {},
   "source": [
    "pour voir les differentes [algorithme](https://scikit-learn.org/stable/modules/classes.html) implementer dans scikit learn :\n",
    "\n",
    "1. Les [algorithmes](https://scikit-learn.org/stable/modules/classes.html#module-sklearn.linear_model)de regression et voici un lien pour plus de ressources [youtube](https://www.youtube.com/watch?v=P6kSc3qVph0&list=PLO_fdPEVlfKqMDNmCFzQISI2H_nJcEDJq&index=20)\n",
    "\n",
    "\n",
    "\n",
    "2. les [algorithmes](https://scikit-learn.org/stable/modules/classes.html#module-sklearn.neighbors)de classification\n",
    "\n",
    "\n",
    "3. les [algorithmes de support vector machine](https://scikit-learn.org/stable/modules/classes.html#module-sklearn.svm)\n",
    "\n",
    "\n",
    "4. les alorithmes de [clustering](https://scikit-learn.org/stable/modules/clustering.html#clustering)\n",
    "\n",
    "\n",
    "5. les algorithmes de [reduction de dimension](https://scikit-learn.org/stable/modules/decomposition.html#decompositions)\n",
    "\n",
    "\n",
    "\n"
   ]
  },
  {
   "cell_type": "markdown",
   "id": "9cc98999",
   "metadata": {},
   "source": [
    "<h1 style=\"text-align: center;\">Preprocessing</h1>\n",
    "\n",
    "Scikit-learn en plus d'implementer beaucoup d'algorithmes de machines learning implemente aussi beaucoup de class et methodes pour faire du [pretraitement](https://scikit-learn.org/stable/modules/preprocessing.html#preprocessing) de données \n"
   ]
  },
  {
   "cell_type": "markdown",
   "id": "3b48ca88",
   "metadata": {},
   "source": [
    "<h3 style=\"text-align: center;\">Encodage</h3>\n",
    "\n",
    "L'encodage consiste à mettre toutes les variables qualitatives sur une echelle numeriques.\n",
    "Les fonctions d'encodage sur scikit learn LabelBinarizer ,LabelEncoder , MultiLabelEncoder, OneHotEncoder , Ordinalencoder.\n"
   ]
  },
  {
   "cell_type": "code",
   "execution_count": 8,
   "id": "f1106e24",
   "metadata": {},
   "outputs": [],
   "source": [
    "from sklearn.preprocessing import LabelEncoder\n",
    "\n",
    "liste = np.array([\"chat\",\"chien\",\"oiseau\",\"chat\"])\n",
    "listeTransfor = LabelEncoder().fit_transform(liste)"
   ]
  },
  {
   "cell_type": "markdown",
   "id": "a75519cb",
   "metadata": {},
   "source": [
    "<h3 style=\"text-align: center;\">Normalisation</h3>\n",
    "La normalisation  consiste à mettre toutes les variables quantitatives sur une meme echelle.\n",
    "Les fonctions de normalisation sur scikit learn KernelCenterer , Normalizer , Standarscaler , RobusterScaler , MinMaxScaler etc..."
   ]
  },
  {
   "cell_type": "code",
   "execution_count": 9,
   "id": "e6375fd8",
   "metadata": {},
   "outputs": [],
   "source": [
    "from sklearn.preprocessing import StandardScaler\n",
    "\n",
    "donne = np.array([[100],[22],[40]])\n",
    "donneTran = StandardScaler().fit_transform(donne)"
   ]
  },
  {
   "cell_type": "markdown",
   "id": "d137f648",
   "metadata": {},
   "source": [
    "# <h3 style=\"text-align: center;\">Imputation</h3>\n",
    "Dans la section [impute](https://scikit-learn.org/stable/modules/classes.html?highlight=impute#module-sklearn.impute) de scikit learn on peut trouver des fonctions qui permettent de traiter des donnees manquantes ou des donnees qu'on veut considerer comme manquantes que l'on precise grace a l'argument <strong>missing_values</strong>  et preciser l'argument <strong> strategy </strong> qui permet de specifier la methodoligie de remplacement \n"
   ]
  },
  {
   "cell_type": "code",
   "execution_count": 15,
   "id": "2192a203",
   "metadata": {},
   "outputs": [],
   "source": [
    "from sklearn.impute import SimpleImputer\n",
    "x=np.array([[ 30],\n",
    "       [ 32],\n",
    "       [ 36],\n",
    "       [ np.nan],\n",
    "       [ 70],\n",
    "       [ 24],\n",
    "       [ 41]])\n",
    "valeur_manquante = SimpleImputer(missing_values=np.nan , strategy='mean')\n",
    "#valeur_manquante.fit_transform(x)\n"
   ]
  },
  {
   "cell_type": "markdown",
   "id": "34b78294",
   "metadata": {},
   "source": [
    "> Dans la section [Feature Selection](https://scikit-learn.org/stable/modules/classes.html?highlight=feature%20selection#module-sklearn.feature_selection) de scikit Learn on peut faire des tests pour trouver les variables les plus utiles pour notre model et quelques tests statistiques"
   ]
  },
  {
   "cell_type": "markdown",
   "id": "66182b7b",
   "metadata": {},
   "source": [
    ">En machine learning l'entrainement de notre model se fait avec un echantillon des données et il existe des [fonctions](https://scikit-learn.org/stable/modules/generated/sklearn.model_selection.cross_validate.html?highlight=cross#sklearn.model_selection.cross_validate) qui sont implementées dans scikit learn pour le faire en fonction du besoin"
   ]
  },
  {
   "cell_type": "markdown",
   "id": "f2080bb7",
   "metadata": {},
   "source": [
    "<img src=\"Scikit-learn_machine_learning_decision_tree.png\">"
   ]
  },
  {
   "cell_type": "code",
   "execution_count": null,
   "id": "549e5eb8",
   "metadata": {},
   "outputs": [],
   "source": []
  },
  {
   "cell_type": "code",
   "execution_count": null,
   "id": "356a1666",
   "metadata": {},
   "outputs": [],
   "source": []
  }
 ],
 "metadata": {
  "kernelspec": {
   "display_name": "Python 3 (ipykernel)",
   "language": "python",
   "name": "python3"
  },
  "language_info": {
   "codemirror_mode": {
    "name": "ipython",
    "version": 3
   },
   "file_extension": ".py",
   "mimetype": "text/x-python",
   "name": "python",
   "nbconvert_exporter": "python",
   "pygments_lexer": "ipython3",
   "version": "3.9.7"
  }
 },
 "nbformat": 4,
 "nbformat_minor": 5
}
